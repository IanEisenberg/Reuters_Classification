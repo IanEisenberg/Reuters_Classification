{
 "cells": [
  {
   "cell_type": "markdown",
   "metadata": {},
   "source": [
    "# references\n",
    "- text classification with word embeddings https://nadbordrozd.github.io/blog/2016/05/20/text-classification-with-word2vec/\n",
    "- preparing reuters https://miguelmalvarez.com/2015/03/20/classifying-reuters-21578-collection-with-python-representing-the-data/\n",
    "- classifying reuters with SVM https://miguelmalvarez.com/2016/11/07/classifying-reuters-21578-collection-with-python/\n",
    "- MUSE for multilingual word embeddings https://github.com/facebookresearch/MUSE\n",
    "- working with pretrained word vectors https://blog.manash.me/how-to-use-pre-trained-word-vectors-from-facebooks-fasttext-a71e6d55f27\n",
    "- term frequency-inverse document frequency (word weighting heuristic) https://en.wikipedia.org/wiki/Tf%E2%80%93idf"
   ]
  },
  {
   "cell_type": "code",
   "execution_count": 1,
   "metadata": {
    "scrolled": true
   },
   "outputs": [
    {
     "name": "stderr",
     "output_type": "stream",
     "text": [
      "/media/Data/Ian/miniconda/envs/tf2.7/lib/python2.7/site-packages/h5py/__init__.py:36: FutureWarning: Conversion of the second argument of issubdtype from `float` to `np.floating` is deprecated. In future, it will be treated as `np.float64 == np.dtype(float).type`.\n",
      "  from ._conv import register_converters as _register_converters\n",
      "Using TensorFlow backend.\n"
     ]
    }
   ],
   "source": [
    "import keras\n",
    "import numpy as np\n",
    "import os\n",
    "import pickle"
   ]
  },
  {
   "cell_type": "markdown",
   "metadata": {},
   "source": [
    "Get data from nltk"
   ]
  },
  {
   "cell_type": "code",
   "execution_count": 2,
   "metadata": {},
   "outputs": [],
   "source": [
    "import nltk\n",
    "from nltk.corpus import reuters\n",
    "#nltk.download()"
   ]
  },
  {
   "cell_type": "markdown",
   "metadata": {},
   "source": [
    "### get word embeddings"
   ]
  },
  {
   "cell_type": "code",
   "execution_count": 3,
   "metadata": {},
   "outputs": [],
   "source": [
    "import os\n",
    "import urllib\n",
    "if not os.path.exists('wiki.multi.en.vec'):\n",
    "    urllib.urlretrieve (\"https://s3.amazonaws.com/arrival/embeddings/wiki.multi.en.vec\", \"wiki.multi.en.vec\")"
   ]
  },
  {
   "cell_type": "code",
   "execution_count": 4,
   "metadata": {},
   "outputs": [],
   "source": [
    "from gensim.models import KeyedVectors\n",
    "embedding = KeyedVectors.load_word2vec_format('wiki.multi.en.vec')"
   ]
  },
  {
   "cell_type": "code",
   "execution_count": 5,
   "metadata": {},
   "outputs": [],
   "source": [
    "## load\n",
    "docs_dict = pickle.load(open(os.path.join('workingdir', 'cache.pkl'),'rb'))"
   ]
  },
  {
   "cell_type": "markdown",
   "metadata": {},
   "source": [
    "### get inputs\n"
   ]
  },
  {
   "cell_type": "code",
   "execution_count": 6,
   "metadata": {},
   "outputs": [],
   "source": [
    "from helper_functions import tf_idf, feature_values, tokenize\n",
    "from keras.preprocessing.sequence import pad_sequences\n",
    "from functools import partial"
   ]
  },
  {
   "cell_type": "code",
   "execution_count": 7,
   "metadata": {},
   "outputs": [],
   "source": [
    "vocab_tokenizer = partial(tokenize, vocab=embedding.vocab)"
   ]
  },
  {
   "cell_type": "code",
   "execution_count": 8,
   "metadata": {},
   "outputs": [],
   "source": [
    "# split data and train tf_IDF\n",
    "train_docs = []\n",
    "test_docs = []\n",
    "train_doc_ids = []\n",
    "test_doc_ids = []\n",
    "for doc in reuters.fileids():\n",
    "    if doc.startswith(\"train\"):\n",
    "        train_doc_ids.append(doc)\n",
    "        train_docs.append(reuters.raw(doc))\n",
    "    else:\n",
    "        test_doc_ids.append(doc)\n",
    "        test_docs.append(reuters.raw(doc))\n",
    "if 'representer' not in docs_dict.keys():\n",
    "    representer = tf_idf(train_docs, tokenize=vocab_tokenizer)\n",
    "else:\n",
    "    representer = docs_dict['representer']"
   ]
  },
  {
   "cell_type": "code",
   "execution_count": 9,
   "metadata": {},
   "outputs": [],
   "source": [
    "# set max length to the 99th percentile length of all documents\n",
    "MAX_SEQ_LEN = int(np.percentile([len(i) for i in train_docs+test_docs], 90))"
   ]
  },
  {
   "cell_type": "code",
   "execution_count": 10,
   "metadata": {},
   "outputs": [],
   "source": [
    "# convert train docs to input\n",
    "# tokenize\n",
    "if 'train_docs_pad' not in docs_dict.keys():\n",
    "    tokenized_inputs = [tokenize(doc, vocab=embedding.wv.vocab) for doc in train_docs]\n",
    "    # convert to indices and pad\n",
    "    def convert_to_index(doc, embedding):\n",
    "        return [embedding.index2word.index(w) for w in doc]\n",
    "    seqs = [convert_to_index(doc, embedding) for doc in tokenized_inputs]\n",
    "    train_docs_pad = pad_sequences(seqs, maxlen=MAX_SEQ_LEN)\n",
    "else:\n",
    "    train_docs_pad = docs_dict['train_docs_pad']"
   ]
  },
  {
   "cell_type": "code",
   "execution_count": 11,
   "metadata": {},
   "outputs": [],
   "source": [
    "# convert test docs to input\n",
    "# tokenize\n",
    "if 'test_docs_pad' not in docs_dict.keys():\n",
    "    tokenized_inputs = [tokenize(doc, vocab=embedding.wv.vocab) for doc in test_docs]\n",
    "    # convert to indices and pad\n",
    "    def convert_to_index(doc, embedding):\n",
    "        return [embedding.index2word.index(w) for w in doc]\n",
    "    seqs = [convert_to_index(doc, embedding) for doc in tokenized_inputs]\n",
    "    test_docs_pad = pad_sequences(seqs, maxlen=MAX_SEQ_LEN)\n",
    "else:\n",
    "    test_docs_pad = docs_dict['test_docs_pad']"
   ]
  },
  {
   "cell_type": "raw",
   "metadata": {},
   "source": [
    "# keras impelemntation. Doesn't maintain the same association with the embeddig layer\n",
    "# convert to indices\n",
    "max_vocab_size = 200000\n",
    "input_tokenizer = Tokenizer(max_vocab_size)\n",
    "input_tokenizer.fit_on_texts(tokenized_inputs)\n",
    "input_vocab_size = len(input_tokenizer.word_index)\n",
    "# pad\n",
    "seqs = input_tokenizer.texts_to_sequences(tokenized_inputs)"
   ]
  },
  {
   "cell_type": "code",
   "execution_count": 12,
   "metadata": {},
   "outputs": [],
   "source": [
    "def get_embedding(doc, representer, weighted=True):\n",
    "    tfidf_rep = representer.transform([doc])\n",
    "    if np.sum(tfidf_rep) == 0:\n",
    "        doc_embedding = np.zeros(embedding.vector_size)\n",
    "    else:\n",
    "        tfidf_words = representer.inverse_transform(tfidf_rep)[0]\n",
    "        weights = tfidf_rep.data\n",
    "        doc_word_embedding = np.vstack([embedding.get_vector(w) for w in tfidf_words])\n",
    "        if weighted:\n",
    "            doc_embedding = np.average(doc_word_embedding, axis=0, weights=weights)\n",
    "        else:\n",
    "            doc_embedding = np.sum(doc_word_embedding, axis=0)\n",
    "    return doc_embedding"
   ]
  },
  {
   "cell_type": "code",
   "execution_count": 13,
   "metadata": {},
   "outputs": [],
   "source": [
    "if 'tfidf_train_docs' not in docs_dict:\n",
    "    # get tfidf representation\n",
    "    tfidf_train_docs=representer.transform(train_docs)\n",
    "    tfidf_test_docs=representer.transform(test_docs)\n",
    "    # get embedding representation\n",
    "    embedded_train_docs = [get_embedding(doc, representer) for doc in train_docs]\n",
    "    embedded_test_docs = [get_embedding(doc, representer) for doc in test_docs]\n",
    "else:\n",
    "    tfidf_train_docs = docs_dict['tfidf_train_docs']\n",
    "    tfidf_test_docs = docs_dict['tfidf_test_docs']\n",
    "    embedded_train_docs = docs_dict['embedded_train_docs']\n",
    "    embedded_test_docs = docs_dict['embedded_test_docs']"
   ]
  },
  {
   "cell_type": "code",
   "execution_count": 14,
   "metadata": {},
   "outputs": [
    {
     "data": {
      "text/plain": [
       "\"\\nsave_dict = {'embedded_train_docs': embedded_train_docs,\\n             'embedded_test_docs': embedded_test_docs,\\n             'tfidf_train_docs': tfidf_train_docs,\\n             'tfidf_test_docs': tfidf_test_docs,\\n             'train_docs_pad': train_docs_pad,\\n             'test_docs_pad': test_docs_pad,\\n             'representer': representer\\n            }\\npickle.dump(save_dict, open(os.path.join('workingdir', 'cache.pkl'), 'wb'))\\n\""
      ]
     },
     "execution_count": 14,
     "metadata": {},
     "output_type": "execute_result"
    }
   ],
   "source": [
    "\"\"\"\n",
    "save_dict = {'embedded_train_docs': embedded_train_docs,\n",
    "             'embedded_test_docs': embedded_test_docs,\n",
    "             'tfidf_train_docs': tfidf_train_docs,\n",
    "             'tfidf_test_docs': tfidf_test_docs,\n",
    "             'train_docs_pad': train_docs_pad,\n",
    "             'test_docs_pad': test_docs_pad,\n",
    "             'representer': representer\n",
    "            }\n",
    "pickle.dump(save_dict, open(os.path.join('workingdir', 'cache.pkl'), 'wb'))\n",
    "\"\"\""
   ]
  },
  {
   "cell_type": "markdown",
   "metadata": {},
   "source": [
    "### get outputs"
   ]
  },
  {
   "cell_type": "code",
   "execution_count": 15,
   "metadata": {},
   "outputs": [],
   "source": [
    "from sklearn.preprocessing import MultiLabelBinarizer\n",
    "categories = reuters.categories()\n",
    "train_categories = [reuters.categories(doc) for doc in train_doc_ids]\n",
    "test_categories = [reuters.categories(doc) for doc in test_doc_ids]\n",
    "# transform into multilabel binarized representation\n",
    "mlb = MultiLabelBinarizer()\n",
    "train_labels = mlb.fit_transform([reuters.categories(doc_id)\n",
    "                                  for doc_id in train_doc_ids])\n",
    "test_labels = mlb.transform([reuters.categories(doc_id)\n",
    "                             for doc_id in test_doc_ids])\n",
    "# rare classes\n",
    "rare_cutoff = 6\n",
    "rare_classes = np.where(np.sum(train_labels,0)<rare_cutoff)[0]"
   ]
  },
  {
   "cell_type": "code",
   "execution_count": 16,
   "metadata": {},
   "outputs": [],
   "source": [
    "# compute class weights\n",
    "from sklearn.utils import class_weight\n",
    "category_list = np.hstack([np.where(doc>0)[0] for doc in train_labels])\n",
    "weighted_list = class_weight.compute_class_weight('balanced', np.unique(category_list), category_list)\n",
    "class_weights = {i: weighted_list[i] for i in range(len(mlb.classes_))}"
   ]
  },
  {
   "cell_type": "markdown",
   "metadata": {},
   "source": [
    "rebalance dataset"
   ]
  },
  {
   "cell_type": "code",
   "execution_count": 17,
   "metadata": {
    "scrolled": true
   },
   "outputs": [],
   "source": [
    "docs_to_sample = train_docs_pad\n",
    "\n",
    "# rebalance and remove low frequency categories\n",
    "single_class_labels = [(i,np.where(x==1)[0][0]) for i,x in enumerate(train_labels) if (np.sum(x)==1)]\n",
    "single_class_labels = [x for x in single_class_labels if x[1] not in rare_classes]\n",
    "x_subset = np.array([docs_to_sample[i[0]] for i in single_class_labels])\n",
    "y_subset = np.array([i[1] for i in single_class_labels])\n",
    "\n",
    "# reference https://link.springer.com/content/pdf/10.1007%2F978-3-642-41822-8_42.pdf\n",
    "# Managing Imbalanced Data Sets in Multi-label Problems: A Case Study with the SMOTE Algorithm\n",
    "# reweight\n",
    "# resample\n",
    "from sklearn.preprocessing import OneHotEncoder\n",
    "from imblearn.over_sampling import RandomOverSampler\n",
    "oversampler = RandomOverSampler()\n",
    "resampled_train_docs,resampled_train_labels=oversampler.fit_sample(x_subset,y_subset)\n",
    "# conver train_labels back to multilabel format\n",
    "onehot_encoder = OneHotEncoder(n_values=len(test_labels[0]), sparse=False)\n",
    "resampled_train_labels = onehot_encoder.fit_transform(np.expand_dims(resampled_train_labels,1))"
   ]
  },
  {
   "cell_type": "markdown",
   "metadata": {},
   "source": [
    "### set up keras classifier"
   ]
  },
  {
   "cell_type": "code",
   "execution_count": 18,
   "metadata": {
    "scrolled": true
   },
   "outputs": [],
   "source": [
    "from keras.preprocessing.sequence import pad_sequences\n",
    "from keras.models import Model\n",
    "from keras.layers import Input, Conv1D, Dense, Flatten, MaxPooling1D, Embedding, Dropout\n",
    "import keras.backend as K"
   ]
  },
  {
   "cell_type": "code",
   "execution_count": 32,
   "metadata": {},
   "outputs": [],
   "source": [
    "import tensorflow as tf\n",
    "def custom_objective(y_true, y_pred, prob):\n",
    "    '''Just another crossentropy'''\n",
    "    # Transform to logits\n",
    "    epsilon = tf.convert_to_tensor(K.common._EPSILON, y_pred.dtype.base_dtype)\n",
    "    y_pred = tf.clip_by_value(y_pred, epsilon, 1 - epsilon)\n",
    "    y_pred = tf.log(y_pred / (1 - y_pred))\n",
    "    loss = tf.nn.weighted_cross_entropy_with_logits(y_true, y_pred, prob)\n",
    "    return tf.reduce_mean(loss)\n",
    "\n",
    "loss = partial(custom_objective, prob=10)"
   ]
  },
  {
   "cell_type": "code",
   "execution_count": 33,
   "metadata": {
    "scrolled": true
   },
   "outputs": [],
   "source": [
    "#embedding=embedding.get_keras_embedding()\n",
    "vocab_size=200000\n",
    "embedding_weights = embedding.vectors.copy()\n",
    "embedding_weights[0,:] = np.zeros([1,embedding_weights.shape[1]])\n",
    "embedding_layer = Embedding(vocab_size, 300, weights=[embedding_weights], input_length=MAX_SEQ_LEN, trainable=False)"
   ]
  },
  {
   "cell_type": "code",
   "execution_count": 34,
   "metadata": {
    "scrolled": false
   },
   "outputs": [],
   "source": [
    "from numpy.random import seed\n",
    "seed(1)\n",
    "sequence_input = Input(shape=(MAX_SEQ_LEN,), dtype='int32')\n",
    "x = embedding_layer(sequence_input)\n",
    "x = Flatten()(x)\n",
    "x = Dense(128, activation='relu')(x)\n",
    "x = Dropout(.5)(x)\n",
    "x = Dense(128, activation='relu')(x)\n",
    "x = Dropout(.5)(x)\n",
    "preds = Dense(len(mlb.classes_), activation='sigmoid')(x)\n",
    "\n",
    "model = Model(sequence_input, preds)\n",
    "model.compile(loss=loss,\n",
    "              optimizer='adam',\n",
    "              metrics=['acc'])"
   ]
  },
  {
   "cell_type": "code",
   "execution_count": 35,
   "metadata": {
    "scrolled": true
   },
   "outputs": [
    {
     "name": "stdout",
     "output_type": "stream",
     "text": [
      "Train on 6992 samples, validate on 777 samples\n",
      "Epoch 1/10\n",
      "6992/6992 [==============================] - 127s 18ms/step - loss: 0.2828 - acc: 0.3953 - val_loss: 0.1722 - val_acc: 0.4968\n",
      "Epoch 2/10\n",
      "6992/6992 [==============================] - 125s 18ms/step - loss: 0.1814 - acc: 0.5509 - val_loss: 0.1433 - val_acc: 0.5894\n",
      "Epoch 3/10\n",
      "6992/6992 [==============================] - 125s 18ms/step - loss: 0.1538 - acc: 0.6148 - val_loss: 0.1323 - val_acc: 0.6448\n",
      "Epoch 4/10\n",
      "6992/6992 [==============================] - 126s 18ms/step - loss: 0.1358 - acc: 0.6490 - val_loss: 0.1238 - val_acc: 0.6757\n",
      "Epoch 5/10\n",
      "6992/6992 [==============================] - 126s 18ms/step - loss: 0.1232 - acc: 0.6756 - val_loss: 0.1116 - val_acc: 0.6770\n",
      "Epoch 6/10\n",
      "6992/6992 [==============================] - 125s 18ms/step - loss: 0.1119 - acc: 0.6914 - val_loss: 0.1074 - val_acc: 0.6937\n",
      "Epoch 7/10\n",
      "6992/6992 [==============================] - 125s 18ms/step - loss: 0.1075 - acc: 0.7048 - val_loss: 0.1125 - val_acc: 0.6873\n",
      "Epoch 8/10\n",
      "6992/6992 [==============================] - 125s 18ms/step - loss: 0.0999 - acc: 0.7207 - val_loss: 0.1056 - val_acc: 0.7014\n",
      "Epoch 9/10\n",
      "6992/6992 [==============================] - 126s 18ms/step - loss: 0.0935 - acc: 0.7238 - val_loss: 0.1045 - val_acc: 0.7040\n",
      "Epoch 10/10\n",
      "6992/6992 [==============================] - 125s 18ms/step - loss: 0.0885 - acc: 0.7343 - val_loss: 0.1034 - val_acc: 0.6963\n"
     ]
    }
   ],
   "source": [
    "history = model.fit(train_docs_pad, train_labels,\n",
    "                    validation_split=0.1, batch_size=32, epochs=10)"
   ]
  },
  {
   "cell_type": "code",
   "execution_count": 36,
   "metadata": {},
   "outputs": [
    {
     "data": {
      "image/png": "[encoded data removed]",
      "text/plain": [
       "<Figure size 864x576 with 1 Axes>"
      ]
     },
     "metadata": {},
     "output_type": "display_data"
    }
   ],
   "source": [
    "# pyplot inline\n",
    "import matplotlib.pyplot as plt\n",
    "# summarize history for loss\n",
    "f = plt.figure(figsize=(12,8))\n",
    "plt.plot(history.history['loss'], '-o', label='Train Loss')\n",
    "plt.plot(history.history['val_loss'], '-o', label='Validation Loss')\n",
    "plt.title('model loss')\n",
    "plt.ylabel('loss')\n",
    "plt.xlabel('epoch')\n",
    "plt.legend(loc='upper right')\n",
    "plt.show()"
   ]
  },
  {
   "cell_type": "code",
   "execution_count": 37,
   "metadata": {},
   "outputs": [
    {
     "name": "stdout",
     "output_type": "stream",
     "text": [
      "Micro-average quality numbers\n",
      "Precision: 0.5460, Recall: 0.7692, F1-measure: 0.6387\n",
      "Macro-average quality numbers\n",
      "Precision: 0.1582, Recall: 0.1896, F1-measure: 0.1427\n"
     ]
    }
   ],
   "source": [
    "from sklearn.metrics import f1_score, precision_score,recall_score\n",
    "predictions = model.predict(test_docs_pad)>.5\n",
    "\n",
    "precision = precision_score(test_labels, predictions,\n",
    "                            average='micro')\n",
    "recall = recall_score(test_labels, predictions,\n",
    "                      average='micro')\n",
    "f1 = f1_score(test_labels, predictions, average='micro')\n",
    " \n",
    "print(\"Micro-average quality numbers\")\n",
    "print(\"Precision: {:.4f}, Recall: {:.4f}, F1-measure: {:.4f}\"\n",
    "        .format(precision, recall, f1))\n",
    " \n",
    "precision = precision_score(test_labels, predictions,\n",
    "                            average='macro')\n",
    "recall = recall_score(test_labels, predictions,\n",
    "                      average='macro')\n",
    "f1 = f1_score(test_labels, predictions, average='macro')\n",
    " \n",
    "print(\"Macro-average quality numbers\")\n",
    "print(\"Precision: {:.4f}, Recall: {:.4f}, F1-measure: {:.4f}\"\n",
    "        .format(precision, recall, f1))"
   ]
  },
  {
   "cell_type": "code",
   "execution_count": 38,
   "metadata": {
    "scrolled": false
   },
   "outputs": [
    {
     "name": "stdout",
     "output_type": "stream",
     "text": [
      "             precision    recall  f1-score   support\n",
      "\n",
      "          0       0.82      0.98      0.89       719\n",
      "          1       0.00      0.00      0.00        23\n",
      "          2       0.11      0.50      0.19        14\n",
      "          3       0.32      0.40      0.35        30\n",
      "          4       0.14      0.22      0.17        18\n",
      "          5       0.00      0.00      0.00         1\n",
      "          6       0.00      0.00      0.00        18\n",
      "          7       0.00      0.00      0.00         2\n",
      "          8       0.00      0.00      0.00         3\n",
      "          9       0.57      0.29      0.38        28\n",
      "         10       0.57      0.22      0.32        18\n",
      "         11       0.00      0.00      0.00         1\n",
      "         12       0.20      0.91      0.33        56\n",
      "         13       0.00      0.00      0.00        20\n",
      "         14       0.00      0.00      0.00         2\n",
      "         15       0.38      0.32      0.35        28\n",
      "         16       0.00      0.00      0.00         1\n",
      "         17       0.56      0.87      0.68       189\n",
      "         18       0.00      0.00      0.00         1\n",
      "         19       0.30      0.57      0.39        44\n",
      "         20       0.00      0.00      0.00         4\n",
      "         21       0.90      0.98      0.94      1087\n",
      "         22       0.00      0.00      0.00        10\n",
      "         23       0.00      0.00      0.00        17\n",
      "         24       0.25      0.77      0.38        35\n",
      "         25       0.46      0.20      0.28        30\n",
      "         26       0.41      0.95      0.58       149\n",
      "         27       0.00      0.00      0.00         4\n",
      "         28       0.00      0.00      0.00         1\n",
      "         29       0.00      0.00      0.00         5\n",
      "         30       1.00      0.33      0.50         6\n",
      "         31       1.00      0.25      0.40         4\n",
      "         32       0.00      0.00      0.00         7\n",
      "         33       0.00      0.00      0.00         1\n",
      "         34       0.45      0.87      0.59       131\n",
      "         35       0.00      0.00      0.00        12\n",
      "         36       0.00      0.00      0.00        14\n",
      "         37       0.00      0.00      0.00         1\n",
      "         38       0.83      0.24      0.37        21\n",
      "         39       0.00      0.00      0.00         2\n",
      "         40       0.00      0.00      0.00        14\n",
      "         41       0.00      0.00      0.00         3\n",
      "         42       0.00      0.00      0.00         1\n",
      "         43       0.28      0.29      0.29        24\n",
      "         44       0.00      0.00      0.00         6\n",
      "         45       0.00      0.00      0.00        19\n",
      "         46       0.42      0.93      0.58       179\n",
      "         47       0.33      0.47      0.39        34\n",
      "         48       0.00      0.00      0.00         4\n",
      "         49       0.16      0.37      0.23        30\n",
      "         50       0.00      0.00      0.00         1\n",
      "         51       0.00      0.00      0.00         2\n",
      "         52       0.00      0.00      0.00         2\n",
      "         53       0.00      0.00      0.00         6\n",
      "         54       0.20      0.79      0.32        47\n",
      "         55       1.00      0.09      0.17        11\n",
      "         56       0.00      0.00      0.00         1\n",
      "         57       0.00      0.00      0.00        10\n",
      "         58       0.00      0.00      0.00         1\n",
      "         59       0.00      0.00      0.00        12\n",
      "         60       0.00      0.00      0.00         7\n",
      "         61       0.00      0.00      0.00         3\n",
      "         62       0.00      0.00      0.00         3\n",
      "         63       0.00      0.00      0.00         1\n",
      "         64       0.00      0.00      0.00         3\n",
      "         65       0.00      0.00      0.00         9\n",
      "         66       0.33      0.11      0.17        18\n",
      "         67       0.00      0.00      0.00         2\n",
      "         68       0.11      0.08      0.09        24\n",
      "         69       0.00      0.00      0.00        12\n",
      "         70       0.00      0.00      0.00         1\n",
      "         71       0.52      0.85      0.64        89\n",
      "         72       0.00      0.00      0.00         8\n",
      "         73       0.00      0.00      0.00        10\n",
      "         74       0.00      0.00      0.00        13\n",
      "         75       0.00      0.00      0.00        11\n",
      "         76       0.17      0.61      0.27        33\n",
      "         77       0.00      0.00      0.00        11\n",
      "         78       0.19      0.31      0.24        36\n",
      "         79       0.00      0.00      0.00         1\n",
      "         80       0.00      0.00      0.00         2\n",
      "         81       0.00      0.00      0.00         5\n",
      "         82       0.00      0.00      0.00         4\n",
      "         83       0.00      0.00      0.00        12\n",
      "         84       0.30      0.83      0.44       117\n",
      "         85       0.47      0.19      0.27        37\n",
      "         86       0.26      0.99      0.41        71\n",
      "         87       0.00      0.00      0.00        10\n",
      "         88       0.22      0.29      0.25        14\n",
      "         89       0.00      0.00      0.00        13\n",
      "\n",
      "avg / total       0.58      0.77      0.64      3744\n",
      "\n"
     ]
    },
    {
     "name": "stderr",
     "output_type": "stream",
     "text": [
      "/media/Data/Ian/miniconda/envs/tf2.7/lib/python2.7/site-packages/sklearn/metrics/classification.py:1135: UndefinedMetricWarning: Precision and F-score are ill-defined and being set to 0.0 in labels with no predicted samples.\n",
      "  'precision', 'predicted', average, warn_for)\n"
     ]
    }
   ],
   "source": [
    "from sklearn.metrics import classification_report\n",
    "report = classification_report(test_labels, predictions)\n",
    "print(report)"
   ]
  },
  {
   "cell_type": "markdown",
   "metadata": {},
   "source": [
    "### SVM classifier"
   ]
  },
  {
   "cell_type": "markdown",
   "metadata": {},
   "source": [
    "train SVM on tf idf vectors"
   ]
  },
  {
   "cell_type": "code",
   "execution_count": 39,
   "metadata": {},
   "outputs": [],
   "source": [
    "from sklearn.svm import LinearSVC\n",
    "from sklearn.multiclass import OneVsRestClassifier\n",
    "\n",
    "# inputs\n",
    "x_train = tfidf_train_docs\n",
    "x_test = tfidf_test_docs\n",
    "\n",
    "# Classifier\n",
    "classifier = OneVsRestClassifier(LinearSVC(random_state=42))\n",
    "classifier.fit(x_train, train_labels)\n",
    " \n",
    "predictions = classifier.predict(x_test)"
   ]
  },
  {
   "cell_type": "code",
   "execution_count": 40,
   "metadata": {
    "scrolled": true
   },
   "outputs": [
    {
     "name": "stdout",
     "output_type": "stream",
     "text": [
      "Micro-average quality numbers\n",
      "Precision: 0.9441, Recall: 0.7978, F1-measure: 0.8648\n",
      "Macro-average quality numbers\n",
      "Precision: 0.6088, Recall: 0.3622, F1-measure: 0.4314\n"
     ]
    }
   ],
   "source": [
    "from sklearn.metrics import f1_score, precision_score,recall_score\n",
    " \n",
    "precision = precision_score(test_labels, predictions,\n",
    "                            average='micro')\n",
    "recall = recall_score(test_labels, predictions,\n",
    "                      average='micro')\n",
    "f1 = f1_score(test_labels, predictions, average='micro')\n",
    " \n",
    "print(\"Micro-average quality numbers\")\n",
    "print(\"Precision: {:.4f}, Recall: {:.4f}, F1-measure: {:.4f}\"\n",
    "        .format(precision, recall, f1))\n",
    " \n",
    "precision = precision_score(test_labels, predictions,\n",
    "                            average='macro')\n",
    "recall = recall_score(test_labels, predictions,\n",
    "                      average='macro')\n",
    "f1 = f1_score(test_labels, predictions, average='macro')\n",
    " \n",
    "print(\"Macro-average quality numbers\")\n",
    "print(\"Precision: {:.4f}, Recall: {:.4f}, F1-measure: {:.4f}\"\n",
    "        .format(precision, recall, f1))"
   ]
  },
  {
   "cell_type": "markdown",
   "metadata": {},
   "source": [
    "trian SVM on word embeddings"
   ]
  },
  {
   "cell_type": "code",
   "execution_count": 41,
   "metadata": {},
   "outputs": [],
   "source": [
    "from sklearn.svm import LinearSVC\n",
    "from sklearn.multiclass import OneVsRestClassifier\n",
    "\n",
    "# inputs\n",
    "x_train = embedded_train_docs\n",
    "x_test = embedded_test_docs\n",
    "\n",
    "# Classifier\n",
    "classifier = OneVsRestClassifier(LinearSVC(random_state=42))\n",
    "classifier.fit(x_train, train_labels)\n",
    " \n",
    "predictions = classifier.predict(x_test)"
   ]
  },
  {
   "cell_type": "code",
   "execution_count": 42,
   "metadata": {},
   "outputs": [
    {
     "name": "stdout",
     "output_type": "stream",
     "text": [
      "Micro-average quality numbers\n",
      "Precision: 0.9428, Recall: 0.5812, F1-measure: 0.7191\n",
      "Macro-average quality numbers\n",
      "Precision: 0.2688, Recall: 0.0798, F1-measure: 0.1072\n"
     ]
    }
   ],
   "source": [
    "from sklearn.metrics import f1_score, precision_score,recall_score\n",
    " \n",
    "precision = precision_score(test_labels, predictions,\n",
    "                            average='micro')\n",
    "recall = recall_score(test_labels, predictions,\n",
    "                      average='micro')\n",
    "f1 = f1_score(test_labels, predictions, average='micro')\n",
    " \n",
    "print(\"Micro-average quality numbers\")\n",
    "print(\"Precision: {:.4f}, Recall: {:.4f}, F1-measure: {:.4f}\"\n",
    "        .format(precision, recall, f1))\n",
    " \n",
    "precision = precision_score(test_labels, predictions,\n",
    "                            average='macro')\n",
    "recall = recall_score(test_labels, predictions,\n",
    "                      average='macro')\n",
    "f1 = f1_score(test_labels, predictions, average='macro')\n",
    " \n",
    "print(\"Macro-average quality numbers\")\n",
    "print(\"Precision: {:.4f}, Recall: {:.4f}, F1-measure: {:.4f}\"\n",
    "        .format(precision, recall, f1))"
   ]
  },
  {
   "cell_type": "code",
   "execution_count": null,
   "metadata": {},
   "outputs": [],
   "source": [
    "report = classification_report(test_labels, predictions)\n",
    "print(report)"
   ]
  }
 ],
 "metadata": {
  "kernelspec": {
   "display_name": "Python 2",
   "language": "python",
   "name": "python2"
  },
  "language_info": {
   "codemirror_mode": {
    "name": "ipython",
    "version": 2
   },
   "file_extension": ".py",
   "mimetype": "text/x-python",
   "name": "python",
   "nbconvert_exporter": "python",
   "pygments_lexer": "ipython2",
   "version": "2.7.14"
  },
  "toc": {
   "colors": {
    "hover_highlight": "#DAA520",
    "running_highlight": "#FF0000",
    "selected_highlight": "#FFD700"
   },
   "moveMenuLeft": true,
   "nav_menu": {
    "height": "12px",
    "width": "252px"
   },
   "navigate_menu": true,
   "number_sections": true,
   "sideBar": true,
   "threshold": 4,
   "toc_cell": false,
   "toc_section_display": "block",
   "toc_window_display": false
  }
 },
 "nbformat": 4,
 "nbformat_minor": 2
}
